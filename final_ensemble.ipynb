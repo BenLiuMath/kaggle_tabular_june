{
 "cells": [
  {
   "cell_type": "code",
   "execution_count": 1,
   "metadata": {},
   "outputs": [],
   "source": [
    "import numpy as np\n",
    "import numpy.matlib\n",
    "import pandas as pd\n",
    "import seaborn as sns\n",
    "import matplotlib.pyplot as plt\n",
    "from scipy.optimize import minimize"
   ]
  },
  {
   "cell_type": "code",
   "execution_count": 2,
   "metadata": {},
   "outputs": [],
   "source": [
    "def calc_loss_raw(tmp,labels):\n",
    "    tmp = tmp/np.expand_dims(np.sum(tmp,axis=1),1); # renormalize\n",
    "    tmp[tmp<1e-15] = 1e-15;\n",
    "    tmp[tmp>1-1e-15]=1-1e-15;\n",
    "    myloss = 0;\n",
    "    for jj in range(9):\n",
    "        thisclass = labels==jj;\n",
    "        tmptmp = tmp[:,jj];\n",
    "        myloss += np.sum(np.log(tmptmp[thisclass]))\n",
    "    myloss = -myloss/len(labels)\n",
    "    return myloss;\n",
    "\n",
    "def calc_loss(submission,labels):\n",
    "    tmp = submission.to_numpy()\n",
    "    return calc_loss_raw(tmp,labels);"
   ]
  },
  {
   "cell_type": "code",
   "execution_count": 3,
   "metadata": {},
   "outputs": [],
   "source": [
    "data_train = pd.read_csv('train.csv');\n",
    "data_train.set_index(['id'],inplace=True);\n",
    "\n",
    "# outlier via TSNE\n",
    "ind = 6549;\n",
    "data_train.drop(ind,inplace=True);\n",
    "\n",
    "data_test = pd.read_csv('test.csv');\n",
    "data_test.set_index(['id'],inplace=True);\n",
    "data_train['target'] = data_train['target'].apply(lambda s:int(s[-1])-1)"
   ]
  },
  {
   "cell_type": "code",
   "execution_count": 4,
   "metadata": {},
   "outputs": [],
   "source": [
    "X_train = data_train.copy().drop('target',axis=1);\n",
    "X_train_log = X_train.copy();\n",
    "y_train = data_train['target'];\n",
    "\n",
    "X_test = data_test.copy();\n",
    "X_test_log = X_test.copy();\n",
    "\n",
    "from sklearn.preprocessing import StandardScaler;\n",
    "from sklearn.pipeline import Pipeline;\n",
    "\n",
    "def munge_combo(df):\n",
    "    for col in df.columns:\n",
    "        df[col+'binary'] = 1.0*(df[col]>0);\n",
    "        df[col+'log'] = np.log1p(df[col]);\n",
    "\n",
    "munge_combo(X_train);\n",
    "munge_combo(X_test);\n",
    "\n",
    "from sklearn.model_selection import train_test_split\n",
    "X,X_valid,y,y_valid = train_test_split(X_train,y_train,test_size=.3,random_state=10,stratify=y_train);"
   ]
  },
  {
   "cell_type": "markdown",
   "metadata": {},
   "source": [
    "# Testing three regressors"
   ]
  },
  {
   "cell_type": "code",
   "execution_count": 5,
   "metadata": {},
   "outputs": [],
   "source": [
    "from lightgbm import LGBMClassifier\n",
    "\n",
    "myLGBM = LGBMClassifier(reg_alpha=60.0,n_estimators=200)\n",
    "myLGBM.fit(X,y);"
   ]
  },
  {
   "cell_type": "code",
   "execution_count": 51,
   "metadata": {},
   "outputs": [
    {
     "name": "stdout",
     "output_type": "stream",
     "text": [
      "Train loss = 1.701002\n",
      "Valid loss = 1.745673\n"
     ]
    }
   ],
   "source": [
    "y_predict_proba_lgbm = myLGBM.predict_proba(X);\n",
    "y_valid_predict_proba_lgbm = myLGBM.predict_proba(X_valid);\n",
    "\n",
    "print('Train loss = %f'%(calc_loss_raw(y_predict_proba_lgbm,y)))\n",
    "print('Valid loss = %f'%(calc_loss_raw(y_valid_predict_proba_lgbm,y_valid)));"
   ]
  },
  {
   "cell_type": "code",
   "execution_count": 31,
   "metadata": {},
   "outputs": [],
   "source": [
    "from xgboost import XGBClassifier\n",
    "myXGB = XGBClassifier(n_estimators=105,reg_lambda=1000.,max_depth=2,use_label_encoder=False);\n",
    "myXGB.fit(X,y,eval_metric='mlogloss');\n",
    "mymodel = myXGB;"
   ]
  },
  {
   "cell_type": "code",
   "execution_count": 52,
   "metadata": {},
   "outputs": [
    {
     "name": "stdout",
     "output_type": "stream",
     "text": [
      "Train loss = 1.740998\n",
      "Valid loss = 1.749375\n"
     ]
    }
   ],
   "source": [
    "# n_estimators=105\n",
    "y_predict_proba_xgb = myXGB.predict_proba(X);\n",
    "y_valid_predict_proba_xgb = myXGB.predict_proba(X_valid);\n",
    "\n",
    "print('Train loss = %f'%(calc_loss_raw(y_predict_proba_xgb,y)))\n",
    "print('Valid loss = %f'%(calc_loss_raw(y_valid_predict_proba_xgb,y_valid)));"
   ]
  },
  {
   "cell_type": "code",
   "execution_count": 9,
   "metadata": {},
   "outputs": [],
   "source": [
    "from sklearn.linear_model import LogisticRegression\n",
    "myLogisticRegression = LogisticRegression(max_iter=2000,solver='lbfgs',C=0.004);\n",
    "myLogisticRegression.fit(X,y);"
   ]
  },
  {
   "cell_type": "code",
   "execution_count": 53,
   "metadata": {},
   "outputs": [
    {
     "name": "stdout",
     "output_type": "stream",
     "text": [
      "Train loss = 1.744016\n",
      "Valid loss = 1.750609\n"
     ]
    }
   ],
   "source": [
    "# C=0.004\n",
    "y_predict_proba_logistic = myLogisticRegression.predict_proba(X);\n",
    "y_valid_predict_proba_logistic = myLogisticRegression.predict_proba(X_valid);\n",
    "\n",
    "print('Train loss = %f'%(calc_loss_raw(y_predict_proba_logistic,y)))\n",
    "print('Valid loss = %f'%(calc_loss_raw(y_valid_predict_proba_logistic,y_valid)));"
   ]
  },
  {
   "cell_type": "markdown",
   "metadata": {},
   "source": [
    "# Blending with arithmetic averaging"
   ]
  },
  {
   "cell_type": "markdown",
   "metadata": {},
   "source": [
    "## Blending two at a time..."
   ]
  },
  {
   "cell_type": "code",
   "execution_count": 54,
   "metadata": {},
   "outputs": [
    {
     "name": "stdout",
     "output_type": "stream",
     "text": [
      "minimum=1.74482, minimizer=0.703382\n",
      "1.7493745239257812\n"
     ]
    },
    {
     "data": {
      "image/png": "[encoded data removed]",
      "text/plain": [
       "<Figure size 432x288 with 1 Axes>"
      ]
     },
     "metadata": {
      "needs_background": "light"
     },
     "output_type": "display_data"
    }
   ],
   "source": [
    "# arithmetic average\n",
    "blend = lambda cc:(1.0-cc)*y_valid_predict_proba_xgb + cc*y_valid_predict_proba_lgbm;\n",
    "blendratio = lambda cc:calc_loss_raw(blend(cc),y_valid);\n",
    "\n",
    "res = minimize(blendratio,0.9)\n",
    "print('minimum=%g, minimizer=%g'%(res.fun,res.x))\n",
    "\n",
    "ccs = np.linspace(0,1);\n",
    "plt.plot(ccs,[blendratio(cc) for cc in ccs])\n",
    "print(calc_loss_raw(y_valid_predict_proba_xgb,y_valid))"
   ]
  },
  {
   "cell_type": "markdown",
   "metadata": {},
   "source": [
    "## Blending all three"
   ]
  },
  {
   "cell_type": "code",
   "execution_count": 55,
   "metadata": {},
   "outputs": [
    {
     "name": "stdout",
     "output_type": "stream",
     "text": [
      "1.7441982544116321\n",
      "xgb:6.46%, logistic:28.34%, lgbm:65.20%\n"
     ]
    }
   ],
   "source": [
    "blend = lambda cc: (1.0-cc[0]-cc[1])*y_valid_predict_proba_xgb + cc[0]*y_valid_predict_proba_logistic + cc[1]*y_valid_predict_proba_lgbm;\n",
    "blendratio = lambda cc: calc_loss_raw(blend(cc),y_valid);\n",
    "\n",
    "res = minimize(blendratio,[0.33, 0.33])\n",
    "\n",
    "weights = list(100*res.x);\n",
    "weights.insert(0,100.-np.sum(weights));\n",
    "print(res.fun);\n",
    "print('xgb:%0.2f%%, logistic:%0.2f%%, lgbm:%0.2f%%'%tuple(weights))\n",
    "#blendratio([0.2,0.2])"
   ]
  },
  {
   "cell_type": "markdown",
   "metadata": {},
   "source": [
    "# Ensemble\n",
    "\n",
    "I found that it was most effective to stack the regressors in order of best-to-worst, with the final regressor achieving the best loss and having the most weight when arithmetically averaged for optimal blending loss."
   ]
  },
  {
   "cell_type": "code",
   "execution_count": 20,
   "metadata": {},
   "outputs": [
    {
     "name": "stdout",
     "output_type": "stream",
     "text": [
      "[20:55:42] WARNING: C:/Users/Administrator/workspace/xgboost-win64_release_1.4.0/src/learner.cc:1095: Starting in XGBoost 1.3.0, the default evaluation metric used with the objective 'multi:softprob' was changed from 'merror' to 'mlogloss'. Explicitly set eval_metric if you'd like to restore the old behavior.\n",
      "[20:58:44] WARNING: C:/Users/Administrator/workspace/xgboost-win64_release_1.4.0/src/learner.cc:1095: Starting in XGBoost 1.3.0, the default evaluation metric used with the objective 'multi:softprob' was changed from 'merror' to 'mlogloss'. Explicitly set eval_metric if you'd like to restore the old behavior.\n",
      "[20:59:07] WARNING: C:/Users/Administrator/workspace/xgboost-win64_release_1.4.0/src/learner.cc:1095: Starting in XGBoost 1.3.0, the default evaluation metric used with the objective 'multi:softprob' was changed from 'merror' to 'mlogloss'. Explicitly set eval_metric if you'd like to restore the old behavior.\n",
      "[20:59:28] WARNING: C:/Users/Administrator/workspace/xgboost-win64_release_1.4.0/src/learner.cc:1095: Starting in XGBoost 1.3.0, the default evaluation metric used with the objective 'multi:softprob' was changed from 'merror' to 'mlogloss'. Explicitly set eval_metric if you'd like to restore the old behavior.\n"
     ]
    }
   ],
   "source": [
    "from sklearn.ensemble import StackingClassifier\n",
    "\n",
    "myStack = StackingClassifier( [('logistic',myLogisticRegression),('xgb',myXGB)],\n",
    "                             cv=3, stack_method='predict_proba',\n",
    "                             final_estimator=myLGBM,passthrough=True)\n",
    "myStack.fit(X,y);"
   ]
  },
  {
   "cell_type": "code",
   "execution_count": 50,
   "metadata": {},
   "outputs": [
    {
     "name": "stdout",
     "output_type": "stream",
     "text": [
      "Stacked Ensemble loss=1.743608\n"
     ]
    }
   ],
   "source": [
    "y_valid_predict_proba = myStack.predict_proba(X_valid);\n",
    "print('Stacked Ensemble loss = %f'%(calc_loss_raw(y_valid_predict_proba,y_valid)))"
   ]
  },
  {
   "cell_type": "markdown",
   "metadata": {},
   "source": [
    "## Stacking ensemble loss is better than just arithmetic blending."
   ]
  },
  {
   "cell_type": "code",
   "execution_count": null,
   "metadata": {},
   "outputs": [],
   "source": [
    "myStack.fit(X_train,y_train);"
   ]
  },
  {
   "cell_type": "code",
   "execution_count": null,
   "metadata": {},
   "outputs": [],
   "source": [
    "mysubmission = myStack.predict_proba(X_test);\n",
    "\n",
    "#mysubmission = make_submission(y_test_predict,X_test,ep=0.07412432);\n",
    "mysubmission = pd.DataFrame(mysubmission);\n",
    "mysubmission.set_index(X_test.index,inplace=True);\n",
    "mysubmission.columns = ['Class_'+str(jj) for jj in range(1,10)]\n",
    "mysubmission.to_csv('submission13.csv',index=True);"
   ]
  }
 ],
 "metadata": {
  "kernelspec": {
   "display_name": "Python 3",
   "language": "python",
   "name": "python3"
  },
  "language_info": {
   "codemirror_mode": {
    "name": "ipython",
    "version": 3
   },
   "file_extension": ".py",
   "mimetype": "text/x-python",
   "name": "python",
   "nbconvert_exporter": "python",
   "pygments_lexer": "ipython3",
   "version": "3.8.10"
  }
 },
 "nbformat": 4,
 "nbformat_minor": 4
}
